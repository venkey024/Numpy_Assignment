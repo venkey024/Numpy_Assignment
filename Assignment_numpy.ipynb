{
  "nbformat": 4,
  "nbformat_minor": 0,
  "metadata": {
    "colab": {
      "provenance": [],
      "authorship_tag": "ABX9TyMGQXtS96fLrQ82ym3Pg3bX",
      "include_colab_link": true
    },
    "kernelspec": {
      "name": "python3",
      "display_name": "Python 3"
    },
    "language_info": {
      "name": "python"
    }
  },
  "cells": [
    {
      "cell_type": "markdown",
      "metadata": {
        "id": "view-in-github",
        "colab_type": "text"
      },
      "source": [
        "<a href=\"https://colab.research.google.com/github/venkey024/Numpy_Assignment/blob/main/Assignment_numpy.ipynb\" target=\"_parent\"><img src=\"https://colab.research.google.com/assets/colab-badge.svg\" alt=\"Open In Colab\"/></a>"
      ]
    },
    {
      "cell_type": "markdown",
      "source": [
        "1. Import the numpy package under the name np (★☆☆)\n",
        "(hint: import … as …)"
      ],
      "metadata": {
        "id": "z53Hkb2wIp52"
      }
    },
    {
      "cell_type": "code",
      "execution_count": null,
      "metadata": {
        "id": "Mk0qMF8MIiYh"
      },
      "outputs": [],
      "source": [
        "import numpy as np"
      ]
    },
    {
      "cell_type": "markdown",
      "source": [
        "2. Print the numpy version and the configuration (★☆☆)\n",
        "(hint: np.__version__, np.show_config)"
      ],
      "metadata": {
        "id": "w-T6MFBxI_p-"
      }
    },
    {
      "cell_type": "code",
      "source": [
        "print(np.__version__,np.show_config)"
      ],
      "metadata": {
        "colab": {
          "base_uri": "https://localhost:8080/"
        },
        "id": "n3casnj1I-6q",
        "outputId": "41be9a99-7119-4540-8bed-550b4c4fc654"
      },
      "execution_count": null,
      "outputs": [
        {
          "output_type": "stream",
          "name": "stdout",
          "text": [
            "1.25.2 <function show at 0x7852599ec0d0>\n"
          ]
        }
      ]
    },
    {
      "cell_type": "markdown",
      "source": [
        "3. Create a null vector of size 10"
      ],
      "metadata": {
        "id": "4FLAizvAJQGK"
      }
    },
    {
      "cell_type": "code",
      "source": [
        "a = np.zeros(10)\n",
        "print(a)"
      ],
      "metadata": {
        "colab": {
          "base_uri": "https://localhost:8080/"
        },
        "id": "ksfvj2cVI-3H",
        "outputId": "08034489-6152-446e-fdba-8f7ef420a66f"
      },
      "execution_count": null,
      "outputs": [
        {
          "output_type": "stream",
          "name": "stdout",
          "text": [
            "[0. 0. 0. 0. 0. 0. 0. 0. 0. 0.]\n"
          ]
        }
      ]
    },
    {
      "cell_type": "markdown",
      "source": [
        " 4.How to find the memory size of any array (★☆☆)"
      ],
      "metadata": {
        "id": "LV8VzDfbJkt4"
      }
    },
    {
      "cell_type": "code",
      "source": [
        "a = np.array([[1,2,3],[4,5,6]])\n",
        "print(a.size)\n",
        "print(a.itemsize)"
      ],
      "metadata": {
        "colab": {
          "base_uri": "https://localhost:8080/"
        },
        "id": "Kt2NX8DAI-0Y",
        "outputId": "900e9679-965f-45d6-d64f-d9f0915c6171"
      },
      "execution_count": null,
      "outputs": [
        {
          "output_type": "stream",
          "name": "stdout",
          "text": [
            "6\n",
            "8\n"
          ]
        }
      ]
    },
    {
      "cell_type": "markdown",
      "source": [
        "5. How to get the documentation of the numpy add function from the command line? (★☆☆)"
      ],
      "metadata": {
        "id": "v0sM6dcoKUbS"
      }
    },
    {
      "cell_type": "code",
      "source": [
        "print(np.info(np.add))"
      ],
      "metadata": {
        "colab": {
          "base_uri": "https://localhost:8080/"
        },
        "id": "BCmbE6IfI-ww",
        "outputId": "d660e27f-92e7-4b4c-b14b-041965d4e8e8"
      },
      "execution_count": null,
      "outputs": [
        {
          "output_type": "stream",
          "name": "stdout",
          "text": [
            "add(x1, x2, /, out=None, *, where=True, casting='same_kind', order='K', dtype=None, subok=True[, signature, extobj])\n",
            "\n",
            "Add arguments element-wise.\n",
            "\n",
            "Parameters\n",
            "----------\n",
            "x1, x2 : array_like\n",
            "    The arrays to be added.\n",
            "    If ``x1.shape != x2.shape``, they must be broadcastable to a common\n",
            "    shape (which becomes the shape of the output).\n",
            "out : ndarray, None, or tuple of ndarray and None, optional\n",
            "    A location into which the result is stored. If provided, it must have\n",
            "    a shape that the inputs broadcast to. If not provided or None,\n",
            "    a freshly-allocated array is returned. A tuple (possible only as a\n",
            "    keyword argument) must have length equal to the number of outputs.\n",
            "where : array_like, optional\n",
            "    This condition is broadcast over the input. At locations where the\n",
            "    condition is True, the `out` array will be set to the ufunc result.\n",
            "    Elsewhere, the `out` array will retain its original value.\n",
            "    Note that if an uninitialized `out` array is created via the default\n",
            "    ``out=None``, locations within it where the condition is False will\n",
            "    remain uninitialized.\n",
            "**kwargs\n",
            "    For other keyword-only arguments, see the\n",
            "    :ref:`ufunc docs <ufuncs.kwargs>`.\n",
            "\n",
            "Returns\n",
            "-------\n",
            "add : ndarray or scalar\n",
            "    The sum of `x1` and `x2`, element-wise.\n",
            "    This is a scalar if both `x1` and `x2` are scalars.\n",
            "\n",
            "Notes\n",
            "-----\n",
            "Equivalent to `x1` + `x2` in terms of array broadcasting.\n",
            "\n",
            "Examples\n",
            "--------\n",
            ">>> np.add(1.0, 4.0)\n",
            "5.0\n",
            ">>> x1 = np.arange(9.0).reshape((3, 3))\n",
            ">>> x2 = np.arange(3.0)\n",
            ">>> np.add(x1, x2)\n",
            "array([[  0.,   2.,   4.],\n",
            "       [  3.,   5.,   7.],\n",
            "       [  6.,   8.,  10.]])\n",
            "\n",
            "The ``+`` operator can be used as a shorthand for ``np.add`` on ndarrays.\n",
            "\n",
            ">>> x1 = np.arange(9.0).reshape((3, 3))\n",
            ">>> x2 = np.arange(3.0)\n",
            ">>> x1 + x2\n",
            "array([[ 0.,  2.,  4.],\n",
            "       [ 3.,  5.,  7.],\n",
            "       [ 6.,  8., 10.]])\n",
            "None\n"
          ]
        }
      ]
    },
    {
      "cell_type": "markdown",
      "source": [
        "6. Create a null vector of size 10 but the fifth value which is 1 (★☆☆)"
      ],
      "metadata": {
        "id": "4AqwXWnIK3Tv"
      }
    },
    {
      "cell_type": "code",
      "source": [
        "a = np.zeros(10)\n",
        "a[4] = 1\n",
        "print(a)"
      ],
      "metadata": {
        "colab": {
          "base_uri": "https://localhost:8080/"
        },
        "id": "5nfQIwo5I-tp",
        "outputId": "3dfc52ba-c746-45a5-e4d2-042f150b8c61"
      },
      "execution_count": null,
      "outputs": [
        {
          "output_type": "stream",
          "name": "stdout",
          "text": [
            "[0. 0. 0. 0. 1. 0. 0. 0. 0. 0.]\n"
          ]
        }
      ]
    },
    {
      "cell_type": "markdown",
      "source": [
        "7. Create a vector with values ranging from 10 to 49 (★☆☆)"
      ],
      "metadata": {
        "id": "cv3kJMj1Ljwh"
      }
    },
    {
      "cell_type": "code",
      "source": [
        "a = np.arange(10,50)\n",
        "print(a)"
      ],
      "metadata": {
        "colab": {
          "base_uri": "https://localhost:8080/"
        },
        "id": "CL3sCIPFI-qa",
        "outputId": "a5b99ff2-6d8a-4720-acd8-4d0f5caed02a"
      },
      "execution_count": null,
      "outputs": [
        {
          "output_type": "stream",
          "name": "stdout",
          "text": [
            "[10 11 12 13 14 15 16 17 18 19 20 21 22 23 24 25 26 27 28 29 30 31 32 33\n",
            " 34 35 36 37 38 39 40 41 42 43 44 45 46 47 48 49]\n"
          ]
        }
      ]
    },
    {
      "cell_type": "markdown",
      "source": [
        "8. Reverse a vector (first element becomes last) (★☆☆)"
      ],
      "metadata": {
        "id": "_l9P6yoFMLuA"
      }
    },
    {
      "cell_type": "code",
      "source": [
        "print(a[::-1])"
      ],
      "metadata": {
        "colab": {
          "base_uri": "https://localhost:8080/"
        },
        "id": "xds50manI-nI",
        "outputId": "03eb027d-ea13-4301-ebac-8abccb02f3ee"
      },
      "execution_count": null,
      "outputs": [
        {
          "output_type": "stream",
          "name": "stdout",
          "text": [
            "[49 48 47 46 45 44 43 42 41 40 39 38 37 36 35 34 33 32 31 30 29 28 27 26\n",
            " 25 24 23 22 21 20 19 18 17 16 15 14 13 12 11 10]\n"
          ]
        }
      ]
    },
    {
      "cell_type": "markdown",
      "source": [
        "9. Create a 3x3 matrix with values ranging from 0 to 8 (★☆☆)"
      ],
      "metadata": {
        "id": "0gTtRJM0MYTZ"
      }
    },
    {
      "cell_type": "code",
      "source": [
        "a = np.arange(9)\n",
        "b = a.reshape(3,3)\n",
        "print(b)"
      ],
      "metadata": {
        "colab": {
          "base_uri": "https://localhost:8080/"
        },
        "id": "j3ty3Qq5I-kC",
        "outputId": "0981b2c9-5a83-4d35-fc82-37cf5212ed69"
      },
      "execution_count": null,
      "outputs": [
        {
          "output_type": "stream",
          "name": "stdout",
          "text": [
            "[[0 1 2]\n",
            " [3 4 5]\n",
            " [6 7 8]]\n"
          ]
        }
      ]
    },
    {
      "cell_type": "markdown",
      "source": [
        "10. Find indices of non-zero elements from [1,2,0,0,4,0] (★☆☆)"
      ],
      "metadata": {
        "id": "4hQo_lTzNinc"
      }
    },
    {
      "cell_type": "code",
      "source": [
        "a = np.array([1,2,0,0,4,0])\n",
        "b = np.argwhere(a == 0).flatten()\n",
        "print(b)"
      ],
      "metadata": {
        "colab": {
          "base_uri": "https://localhost:8080/"
        },
        "id": "zg-PfQmhI-hL",
        "outputId": "24114fdd-246b-41c5-9d59-ab49600e7e7c"
      },
      "execution_count": null,
      "outputs": [
        {
          "output_type": "stream",
          "name": "stdout",
          "text": [
            "[2 3 5]\n"
          ]
        }
      ]
    },
    {
      "cell_type": "markdown",
      "source": [
        "Create a 3x3 identity matrix"
      ],
      "metadata": {
        "id": "XFvPDZFEKIcd"
      }
    },
    {
      "cell_type": "code",
      "source": [
        "a = np.eye(3)\n",
        "print(a)"
      ],
      "metadata": {
        "colab": {
          "base_uri": "https://localhost:8080/"
        },
        "id": "bRslwea1I-eG",
        "outputId": "291b811c-2875-4f2f-82fc-217d39826146"
      },
      "execution_count": null,
      "outputs": [
        {
          "output_type": "stream",
          "name": "stdout",
          "text": [
            "[[1. 0. 0.]\n",
            " [0. 1. 0.]\n",
            " [0. 0. 1.]]\n"
          ]
        }
      ]
    },
    {
      "cell_type": "markdown",
      "source": [
        "12. Create a 3x3x3 array with random values (★☆☆)"
      ],
      "metadata": {
        "id": "rRgQ7jWPMxTf"
      }
    },
    {
      "cell_type": "code",
      "source": [
        "a = np.random.random((3,3,3))\n",
        "print(a)"
      ],
      "metadata": {
        "colab": {
          "base_uri": "https://localhost:8080/"
        },
        "id": "Veyl1LqJI-bk",
        "outputId": "b6fb4da2-c451-4482-c759-43a3979a4f62"
      },
      "execution_count": null,
      "outputs": [
        {
          "output_type": "stream",
          "name": "stdout",
          "text": [
            "[[[0.28851464 0.43408447 0.99983773]\n",
            "  [0.2511151  0.1779316  0.97894563]\n",
            "  [0.22860382 0.41131463 0.62370581]]\n",
            "\n",
            " [[0.15452714 0.27193109 0.51908002]\n",
            "  [0.50339565 0.28892087 0.4058096 ]\n",
            "  [0.85921709 0.38664097 0.65929214]]\n",
            "\n",
            " [[0.5033666  0.59767492 0.94867863]\n",
            "  [0.85451561 0.85826622 0.34390785]\n",
            "  [0.69860989 0.49831324 0.18175747]]]\n"
          ]
        }
      ]
    },
    {
      "cell_type": "markdown",
      "source": [
        "13. Create a 10x10 array with random values and find the minimum and maximum values (★☆☆)"
      ],
      "metadata": {
        "id": "GWrZEmCjPoqq"
      }
    },
    {
      "cell_type": "code",
      "source": [
        "a = np.random.random((10,10))\n",
        "print(a)\n",
        "print(np.max(a))\n",
        "print(np.min(a))"
      ],
      "metadata": {
        "colab": {
          "base_uri": "https://localhost:8080/"
        },
        "id": "ZarjIBEMI-YR",
        "outputId": "65d05cbe-7b13-45fa-b491-c8df92c98d59"
      },
      "execution_count": null,
      "outputs": [
        {
          "output_type": "stream",
          "name": "stdout",
          "text": [
            "[[0.84681436 0.92901716 0.32510105 0.89811773 0.58907856 0.40994373\n",
            "  0.58542828 0.91736417 0.46164561 0.70023651]\n",
            " [0.15258869 0.46416425 0.7869838  0.04860853 0.6883883  0.56401147\n",
            "  0.16926375 0.62703598 0.99509482 0.96551022]\n",
            " [0.93318523 0.15748564 0.66283503 0.51422899 0.6805727  0.46265625\n",
            "  0.76962517 0.97707886 0.53884323 0.41243657]\n",
            " [0.53534661 0.17650175 0.44310098 0.35866506 0.73291126 0.38263458\n",
            "  0.40296185 0.9381638  0.10930429 0.37381159]\n",
            " [0.72520304 0.83189347 0.80119518 0.20878983 0.93461414 0.63523427\n",
            "  0.99028709 0.2443427  0.90600408 0.05192905]\n",
            " [0.94026403 0.84688233 0.32963629 0.95146113 0.81776453 0.91191613\n",
            "  0.07548529 0.5552263  0.61552445 0.09018607]\n",
            " [0.85664832 0.75361176 0.72821181 0.63881798 0.6675903  0.0962943\n",
            "  0.67698605 0.78551494 0.78581887 0.12467698]\n",
            " [0.3201848  0.08648433 0.13650461 0.53972065 0.22754428 0.45430922\n",
            "  0.05122925 0.43030514 0.744266   0.12788388]\n",
            " [0.1940552  0.41395925 0.10896836 0.09535889 0.58317231 0.05822678\n",
            "  0.85180146 0.96878923 0.52577853 0.73738325]\n",
            " [0.57278039 0.96930188 0.88981138 0.69672724 0.071655   0.30668961\n",
            "  0.73861043 0.27611787 0.45531574 0.75890928]]\n",
            "0.9950948205264429\n",
            "0.04860852734508314\n"
          ]
        }
      ]
    },
    {
      "cell_type": "markdown",
      "source": [
        "14. Create a random vector of size 30 and find the mean value (★☆☆)"
      ],
      "metadata": {
        "id": "ELDK_AGPQO92"
      }
    },
    {
      "cell_type": "code",
      "source": [
        "a = np.random.random(30)\n",
        "print(a)\n",
        "print(np.mean(a))"
      ],
      "metadata": {
        "colab": {
          "base_uri": "https://localhost:8080/"
        },
        "id": "pEhLIT9lI-Vi",
        "outputId": "04ed20bb-a955-4c28-a8b7-91b9228480ad"
      },
      "execution_count": null,
      "outputs": [
        {
          "output_type": "stream",
          "name": "stdout",
          "text": [
            "[0.73025352 0.15331868 0.06252748 0.53149303 0.03680143 0.68161396\n",
            " 0.37486232 0.8766703  0.0986499  0.05060955 0.5841198  0.33507466\n",
            " 0.26296344 0.64907572 0.23455217 0.69428026 0.75650601 0.57656553\n",
            " 0.83284414 0.88114771 0.21940073 0.05895505 0.42131017 0.84335325\n",
            " 0.57562978 0.71201353 0.76886854 0.85226731 0.26507361 0.44618796]\n",
            "0.4855663185957605\n"
          ]
        }
      ]
    },
    {
      "cell_type": "markdown",
      "source": [
        "15. Create a 2d array with 1 on the border and 0 inside (★☆☆)"
      ],
      "metadata": {
        "id": "02cw1wwuQ3E3"
      }
    },
    {
      "cell_type": "code",
      "source": [
        "a = np.ones([5,5])\n",
        "a[1:-1:,1:-1:] = 0\n",
        "print(a)"
      ],
      "metadata": {
        "colab": {
          "base_uri": "https://localhost:8080/"
        },
        "id": "EorkkLrWI-Sa",
        "outputId": "d63497a0-8d1a-4da0-e2bc-caf98407b486"
      },
      "execution_count": null,
      "outputs": [
        {
          "output_type": "stream",
          "name": "stdout",
          "text": [
            "[[1. 1. 1. 1. 1.]\n",
            " [1. 0. 0. 0. 1.]\n",
            " [1. 0. 0. 0. 1.]\n",
            " [1. 0. 0. 0. 1.]\n",
            " [1. 1. 1. 1. 1.]]\n"
          ]
        }
      ]
    },
    {
      "cell_type": "code",
      "source": [
        "a = np.random.random((3,2))\n",
        "print(a)"
      ],
      "metadata": {
        "colab": {
          "base_uri": "https://localhost:8080/"
        },
        "id": "3N9xFVNdI-Pe",
        "outputId": "664fa2b2-2cd9-496d-85ae-38776b92b57a"
      },
      "execution_count": null,
      "outputs": [
        {
          "output_type": "stream",
          "name": "stdout",
          "text": [
            "[[0.47881231 0.34175523]\n",
            " [0.40928391 0.27479426]\n",
            " [0.20971659 0.043082  ]]\n"
          ]
        }
      ]
    },
    {
      "cell_type": "markdown",
      "source": [
        "16. How to add a border (filled with 0's) around an existing array? (★☆☆)"
      ],
      "metadata": {
        "id": "dPXoK4h-I94F"
      }
    },
    {
      "cell_type": "code",
      "source": [
        "a = np.array([[1,2],[3,4]])\n",
        "print(np.pad(a,pad_width=1))"
      ],
      "metadata": {
        "colab": {
          "base_uri": "https://localhost:8080/"
        },
        "id": "N3yB4UOtb0dA",
        "outputId": "0bc9a687-2623-4d43-a77a-04380708df48"
      },
      "execution_count": null,
      "outputs": [
        {
          "output_type": "stream",
          "name": "stdout",
          "text": [
            "[[0 0 0 0]\n",
            " [0 1 2 0]\n",
            " [0 3 4 0]\n",
            " [0 0 0 0]]\n"
          ]
        }
      ]
    },
    {
      "cell_type": "markdown",
      "source": [
        "17. What is the result of the following expression? (★☆☆)\n",
        "(hint: NaN = not a number, inf = infinity)"
      ],
      "metadata": {
        "id": "fN-_drrkdB8f"
      }
    },
    {
      "cell_type": "code",
      "source": [
        "print(0 * np.nan)\n",
        "print(np.nan == np.nan)\n",
        "print(np.inf > np.nan)\n",
        "print(np.nan - np.nan)\n",
        "print(0.3 == 3 * 0.1)"
      ],
      "metadata": {
        "colab": {
          "base_uri": "https://localhost:8080/"
        },
        "id": "Z_gYcWZDHmvA",
        "outputId": "6eff52a6-84a3-4409-e626-97449572e72d"
      },
      "execution_count": null,
      "outputs": [
        {
          "output_type": "stream",
          "name": "stdout",
          "text": [
            "nan\n",
            "False\n",
            "False\n",
            "nan\n",
            "False\n"
          ]
        }
      ]
    },
    {
      "cell_type": "markdown",
      "source": [
        "18. Create a 5x5 matrix with values 1,2,3,4 just below the diagonal"
      ],
      "metadata": {
        "id": "0svDaHnLetzl"
      }
    },
    {
      "cell_type": "code",
      "source": [
        "a = np.array([1,2,3,4])\n",
        "print(np.diag(a,k=0))"
      ],
      "metadata": {
        "colab": {
          "base_uri": "https://localhost:8080/"
        },
        "id": "R8BuoFU2dBTD",
        "outputId": "361bccbc-5199-4295-8c87-4b6aa741efab"
      },
      "execution_count": null,
      "outputs": [
        {
          "output_type": "stream",
          "name": "stdout",
          "text": [
            "[[1 0 0 0]\n",
            " [0 2 0 0]\n",
            " [0 0 3 0]\n",
            " [0 0 0 4]]\n"
          ]
        }
      ]
    },
    {
      "cell_type": "markdown",
      "source": [
        "19. Create a 8x8 matrix and fill it with a checkerboard pattern"
      ],
      "metadata": {
        "id": "w-tzmDh-e0U8"
      }
    },
    {
      "cell_type": "code",
      "source": [
        "a = np.zeros((8,8))\n",
        "a[0::2,0::2] = 1\n",
        "a[1::2,1::2] = 1\n",
        "print(a)"
      ],
      "metadata": {
        "colab": {
          "base_uri": "https://localhost:8080/"
        },
        "id": "V6Ci0zCfe5f9",
        "outputId": "3a563965-2379-433c-ad18-34ba28f3fa74"
      },
      "execution_count": null,
      "outputs": [
        {
          "output_type": "stream",
          "name": "stdout",
          "text": [
            "[[1. 0. 1. 0. 1. 0. 1. 0.]\n",
            " [0. 1. 0. 1. 0. 1. 0. 1.]\n",
            " [1. 0. 1. 0. 1. 0. 1. 0.]\n",
            " [0. 1. 0. 1. 0. 1. 0. 1.]\n",
            " [1. 0. 1. 0. 1. 0. 1. 0.]\n",
            " [0. 1. 0. 1. 0. 1. 0. 1.]\n",
            " [1. 0. 1. 0. 1. 0. 1. 0.]\n",
            " [0. 1. 0. 1. 0. 1. 0. 1.]]\n"
          ]
        }
      ]
    },
    {
      "cell_type": "markdown",
      "source": [
        "20. Consider a (6,7,8) shape array, what is the index (x,y,z) of the 100th element?\n",
        "(hint: np.unravel_index)"
      ],
      "metadata": {
        "id": "pTKE7MVAIEnY"
      }
    },
    {
      "cell_type": "code",
      "source": [
        "\n",
        "shape = (6,7,8)\n",
        "a = np.unravel_index(99,shape)\n",
        "print(a)"
      ],
      "metadata": {
        "colab": {
          "base_uri": "https://localhost:8080/"
        },
        "id": "z64YPpkAIEMV",
        "outputId": "90af94e0-31c9-4c2e-f3b2-eaa0f0aece16"
      },
      "execution_count": null,
      "outputs": [
        {
          "output_type": "stream",
          "name": "stdout",
          "text": [
            "(1, 5, 3)\n"
          ]
        }
      ]
    },
    {
      "cell_type": "markdown",
      "source": [
        "21. Create a checkerboard 8x8 matrix using the tile function (★☆☆)"
      ],
      "metadata": {
        "id": "5rtzECxUwGXB"
      }
    },
    {
      "cell_type": "code",
      "source": [
        "a = np.array([[1,0],[0,1]])\n",
        "til = np.tile(a,(4,4))\n",
        "print(til)"
      ],
      "metadata": {
        "colab": {
          "base_uri": "https://localhost:8080/"
        },
        "id": "m186QgzHpzhd",
        "outputId": "ea19e617-adeb-4703-eec0-ccef595552e8"
      },
      "execution_count": null,
      "outputs": [
        {
          "output_type": "stream",
          "name": "stdout",
          "text": [
            "[[1 0 1 0 1 0 1 0]\n",
            " [0 1 0 1 0 1 0 1]\n",
            " [1 0 1 0 1 0 1 0]\n",
            " [0 1 0 1 0 1 0 1]\n",
            " [1 0 1 0 1 0 1 0]\n",
            " [0 1 0 1 0 1 0 1]\n",
            " [1 0 1 0 1 0 1 0]\n",
            " [0 1 0 1 0 1 0 1]]\n"
          ]
        }
      ]
    },
    {
      "cell_type": "markdown",
      "source": [
        "22. Normalize a 5x5 random matrix (★☆☆)\n",
        "(hint: (x - min) / (max - min))"
      ],
      "metadata": {
        "id": "XLg3h8G4J2gg"
      }
    },
    {
      "cell_type": "code",
      "source": [
        "matrix = np.eye(5)\n",
        "min_val = a.min()\n",
        "max_val = a.max()\n",
        "normalized_matrix = (matrix - min_val) / (max_val - min_val)\n",
        "print(normalized_matrix)\n",
        "\n"
      ],
      "metadata": {
        "colab": {
          "base_uri": "https://localhost:8080/"
        },
        "id": "CepgNXtEJ3ie",
        "outputId": "f4f6a7c0-5053-4bf9-92c7-ceb36dd5edea"
      },
      "execution_count": null,
      "outputs": [
        {
          "output_type": "stream",
          "name": "stdout",
          "text": [
            "[[1. 0. 0. 0. 0.]\n",
            " [0. 1. 0. 0. 0.]\n",
            " [0. 0. 1. 0. 0.]\n",
            " [0. 0. 0. 1. 0.]\n",
            " [0. 0. 0. 0. 1.]]\n"
          ]
        }
      ]
    },
    {
      "cell_type": "markdown",
      "source": [
        "23. Create a custom dtype that describes a color as four unsigned bytes (RGBA) (★☆☆)\n",
        "(hint: np.dtype)"
      ],
      "metadata": {
        "id": "dekAA6snLItC"
      }
    },
    {
      "cell_type": "code",
      "source": [
        "import numpy as np\n",
        "\n",
        "# Step 1: Define the custom dtype\n",
        "color_dtype = np.dtype([\n",
        "    ('r', np.uint8),\n",
        "    ('g', np.uint8),\n",
        "    ('b', np.uint8),\n",
        "    ('a', np.uint8)\n",
        "])\n",
        "\n",
        "# Step 2: Create an example array using this dtype\n",
        "colors = np.array([(255, 0, 0, 255), (0, 255, 0, 255), (0, 0, 255, 255)], dtype=color_dtype)\n",
        "\n",
        "# Step 3: Print the array and its dtype\n",
        "print(\"Colors array:\\n\", colors)\n",
        "print(\"Dtype:\", colors.dtype)"
      ],
      "metadata": {
        "colab": {
          "base_uri": "https://localhost:8080/"
        },
        "id": "eSolL41gLF-9",
        "outputId": "b441d88f-20f6-413f-cb1d-1855e32e2521"
      },
      "execution_count": null,
      "outputs": [
        {
          "output_type": "stream",
          "name": "stdout",
          "text": [
            "Colors array:\n",
            " [(2,   1,   0, 255) (0, 255,   0, 255) (0,   0, 255, 255)]\n",
            "Dtype: [('r', 'u1'), ('g', 'u1'), ('b', 'u1'), ('a', 'u1')]\n"
          ]
        }
      ]
    },
    {
      "cell_type": "markdown",
      "source": [
        "24. Multiply a 5x3 matrix by a 3x2 matrix (real matrix product) (★☆☆)\n",
        "(hint: np.dot | @)"
      ],
      "metadata": {
        "id": "1jppb-MzLzq3"
      }
    },
    {
      "cell_type": "code",
      "source": [
        "a = np.random.rand(5,3)\n",
        "b = np.random.rand(3,2)\n",
        "a@b"
      ],
      "metadata": {
        "colab": {
          "base_uri": "https://localhost:8080/"
        },
        "id": "XlM_ZFRHLwzd",
        "outputId": "d9ab5245-8862-4cf7-c474-144a6f0695cb"
      },
      "execution_count": null,
      "outputs": [
        {
          "output_type": "execute_result",
          "data": {
            "text/plain": [
              "array([[0.15767459, 0.38677136],\n",
              "       [0.47410085, 0.66013667],\n",
              "       [0.13797406, 0.4674299 ],\n",
              "       [0.81286306, 0.66889851],\n",
              "       [0.96687456, 0.85913976]])"
            ]
          },
          "metadata": {},
          "execution_count": 28
        }
      ]
    },
    {
      "cell_type": "markdown",
      "source": [
        "25. Given a 1D array, negate all elements which are between 3 and 8, in place. (★☆☆)\n",
        "(hint: >, <=)"
      ],
      "metadata": {
        "id": "WeR0X55LMmns"
      }
    },
    {
      "cell_type": "code",
      "source": [
        "a = np.array([1,5,6,7,87,6,43])\n",
        "a[(a>3) & (a<8)] = a[(a>3) & (a<8)] *0\n",
        "print(a)"
      ],
      "metadata": {
        "colab": {
          "base_uri": "https://localhost:8080/"
        },
        "id": "mqD24t_xMxXx",
        "outputId": "85a49a8f-0c7f-4867-d0d2-ef56e132888b"
      },
      "execution_count": null,
      "outputs": [
        {
          "output_type": "stream",
          "name": "stdout",
          "text": [
            "[ 1  0  0  0 87  0 43]\n"
          ]
        }
      ]
    },
    {
      "cell_type": "markdown",
      "source": [
        "26. What is the output of the following script? (★☆☆)\n",
        "(hint: np.sum)"
      ],
      "metadata": {
        "id": "Ev3Bo4qJOiSC"
      }
    },
    {
      "cell_type": "code",
      "source": [
        "print(sum(range(5),-1))\n",
        "from numpy import *\n",
        "print(sum(range(5),-1))"
      ],
      "metadata": {
        "colab": {
          "base_uri": "https://localhost:8080/"
        },
        "id": "E8hrm02HOfrV",
        "outputId": "b98d5dba-b99a-4cee-f56b-fc17e38d35e9"
      },
      "execution_count": null,
      "outputs": [
        {
          "output_type": "stream",
          "name": "stdout",
          "text": [
            "9\n",
            "10\n"
          ]
        }
      ]
    },
    {
      "cell_type": "markdown",
      "source": [
        "27. Consider an integer vector Z, which of these expressions are legal? (★☆☆)\n",
        "Z**Z\n",
        "2 << Z >> 2\n",
        "Z <- Z\n",
        "1j*Z\n",
        "Z/1/1\n",
        "Z<Z>Z"
      ],
      "metadata": {
        "id": "d_89B_eiOpqt"
      }
    },
    {
      "cell_type": "code",
      "source": [
        "z = np.array([4])\n",
        "print(z*z)\n",
        "print(2<<z>>2)\n",
        "print(z<-2)\n",
        "print(1j *z)\n",
        "print(z/1/1)\n",
        "print(z<z>z)"
      ],
      "metadata": {
        "colab": {
          "base_uri": "https://localhost:8080/"
        },
        "id": "2P7iWD3bOsnN",
        "outputId": "2e6323c2-a557-4284-8c41-6d5c66c7f299"
      },
      "execution_count": null,
      "outputs": [
        {
          "output_type": "stream",
          "name": "stdout",
          "text": [
            "[16]\n",
            "[8]\n",
            "[False]\n",
            "[0.+4.j]\n",
            "[4.]\n",
            "[False]\n"
          ]
        }
      ]
    },
    {
      "cell_type": "markdown",
      "source": [
        "28. What are the result of the following expressions?\n",
        "\n",
        "np.array(0) / np.array(0)\n",
        "\n",
        "np.array(0) // np.array(0)\n",
        "\n",
        "np.array([np.nan]).astype(int).astype(float)"
      ],
      "metadata": {
        "id": "ov8tbf_-PQWo"
      }
    },
    {
      "cell_type": "code",
      "source": [
        "print(np.array(0)/np.array(0))\n",
        "print(np.array(0)//np.array(0))\n",
        "np.array([np.nan]).astype(int).astype(float)"
      ],
      "metadata": {
        "colab": {
          "base_uri": "https://localhost:8080/"
        },
        "id": "_Tds3bfePTau",
        "outputId": "ad426448-f313-45a1-98b0-2a111d74cef2"
      },
      "execution_count": null,
      "outputs": [
        {
          "output_type": "stream",
          "name": "stdout",
          "text": [
            "nan\n",
            "0\n"
          ]
        },
        {
          "output_type": "stream",
          "name": "stderr",
          "text": [
            "<ipython-input-56-52e5be358f56>:1: RuntimeWarning: invalid value encountered in divide\n",
            "  print(np.array(0)/np.array(0))\n",
            "<ipython-input-56-52e5be358f56>:2: RuntimeWarning: divide by zero encountered in floor_divide\n",
            "  print(np.array(0)//np.array(0))\n",
            "<ipython-input-56-52e5be358f56>:3: RuntimeWarning: invalid value encountered in cast\n",
            "  np.array([np.nan]).astype(int).astype(float)\n"
          ]
        },
        {
          "output_type": "execute_result",
          "data": {
            "text/plain": [
              "array([-9.22337204e+18])"
            ]
          },
          "metadata": {},
          "execution_count": 56
        }
      ]
    },
    {
      "cell_type": "markdown",
      "source": [
        "29. How to round away from zero a float array ? (★☆☆)\n",
        "(hint: np.uniform, np.copysign, np.ceil, np.abs)"
      ],
      "metadata": {
        "id": "3-Z-XQH9QewB"
      }
    },
    {
      "cell_type": "code",
      "source": [
        "arr = np.random.uniform(10,size =10)\n",
        "print(arr)\n",
        "rounded_arr =np.ceil(np.abs(arr))\n",
        "print(rounded_arr)\n"
      ],
      "metadata": {
        "colab": {
          "base_uri": "https://localhost:8080/"
        },
        "id": "lPVM9xnTQbxJ",
        "outputId": "5a972d76-3546-472f-8930-96e58991d89e"
      },
      "execution_count": null,
      "outputs": [
        {
          "output_type": "stream",
          "name": "stdout",
          "text": [
            "[1.25296178 5.57999965 1.21294813 7.07205251 9.25007108 7.17295016\n",
            " 3.77773663 1.44137269 5.40307428 2.63910119]\n",
            "[ 2.  6.  2.  8. 10.  8.  4.  2.  6.  3.]\n"
          ]
        }
      ]
    },
    {
      "cell_type": "markdown",
      "source": [
        "30. How to find common values between two arrays? (★☆☆)\n",
        "(hint: np.intersect1d)"
      ],
      "metadata": {
        "id": "JSP4j4NjSOk_"
      }
    },
    {
      "cell_type": "code",
      "source": [
        "a = np.random.randint(10,size=10)\n",
        "print(a)\n",
        "b = np.random.randint(10,size=10)\n",
        "print(b)\n",
        "c = np.intersect1d(a,b)\n",
        "print(\"The common eleemnts : \",c)"
      ],
      "metadata": {
        "colab": {
          "base_uri": "https://localhost:8080/"
        },
        "id": "HRg_vU32SSDf",
        "outputId": "a6c4e927-1fc3-4d0f-befd-9c787d9f4f03"
      },
      "execution_count": null,
      "outputs": [
        {
          "output_type": "stream",
          "name": "stdout",
          "text": [
            "[5 4 7 3 0 2 7 6 6 1]\n",
            "[4 6 6 8 0 9 4 5 5 5]\n",
            "The common eleemnts :  [0 4 5 6]\n"
          ]
        }
      ]
    },
    {
      "cell_type": "markdown",
      "source": [
        "31. How to ignore all numpy warnings (not recommended)? (★☆☆)\n",
        "(hint: np.seterr, np.errstate)"
      ],
      "metadata": {
        "id": "PZY94VzcTMom"
      }
    },
    {
      "cell_type": "code",
      "source": [
        "# Ignore all warnings\n",
        "np.seterr(all='ignore')\n",
        "\n",
        "# Example code that would normally raise warnings\n",
        "a = np.array([1.0, 2.0, np.nan])\n",
        "b = np.array([0.0, 0.0, 0.0])\n",
        "c = a / b\n",
        "print(c)\n",
        "\n",
        "with np.errstate(all='ignore'):\n",
        "  d = a/b\n",
        "\n",
        "print(d)"
      ],
      "metadata": {
        "colab": {
          "base_uri": "https://localhost:8080/"
        },
        "id": "5zeR4mtPTJT1",
        "outputId": "81230d17-8f96-4e17-c2d9-5e024083ab0f"
      },
      "execution_count": null,
      "outputs": [
        {
          "output_type": "stream",
          "name": "stdout",
          "text": [
            "[inf inf nan]\n",
            "[inf inf nan]\n"
          ]
        }
      ]
    },
    {
      "cell_type": "markdown",
      "source": [
        "32. Is the following expressions true? (★☆☆)\n",
        "(hint: imaginary number)"
      ],
      "metadata": {
        "id": "2KREwbt4UPc7"
      }
    },
    {
      "cell_type": "code",
      "source": [
        "np.sqrt(-1) == np.emath.sqrt(-1)"
      ],
      "metadata": {
        "colab": {
          "base_uri": "https://localhost:8080/"
        },
        "id": "iaQewFIDUItH",
        "outputId": "2774e0a9-5e9c-4358-86cb-5e315e91908a"
      },
      "execution_count": null,
      "outputs": [
        {
          "output_type": "execute_result",
          "data": {
            "text/plain": [
              "False"
            ]
          },
          "metadata": {},
          "execution_count": 85
        }
      ]
    },
    {
      "cell_type": "markdown",
      "source": [
        "33. How to get the dates of yesterday, today and tomorrow? (★☆☆)\n",
        "\n",
        "(hint: np.datetime64, np.timedelta64)"
      ],
      "metadata": {
        "id": "wzQpvDstUYS4"
      }
    },
    {
      "cell_type": "code",
      "source": [
        "today = np.datetime64('today')\n",
        "print(\"Today date\",today)\n",
        "\n",
        "# yesterday\n",
        "yesterday = today - np.timedelta64(1,'D')\n",
        "\n",
        "print(\"yesterady date\",yesterday)\n",
        "\n",
        "\n",
        "#tomorrow\n",
        "tomorrow = today + np.timedelta64(1,'D')\n",
        "print(\"Tommorrow date is \",tomorrow)"
      ],
      "metadata": {
        "colab": {
          "base_uri": "https://localhost:8080/"
        },
        "id": "m9u-7iG8UcIm",
        "outputId": "4b3510b0-71c7-45b5-9d0c-96f5127c91f6"
      },
      "execution_count": null,
      "outputs": [
        {
          "output_type": "stream",
          "name": "stdout",
          "text": [
            "Today date 2024-06-29\n",
            "yesterady date 2024-06-28\n",
            "Tommorrow date is  2024-06-30\n"
          ]
        }
      ]
    },
    {
      "cell_type": "markdown",
      "source": [
        "34. How to get all the dates corresponding to the month of July 2016? (★★☆)\n",
        "(hint: np.arange(dtype=datetime64['D']))bold text"
      ],
      "metadata": {
        "id": "qtHLf9qKV02B"
      }
    },
    {
      "cell_type": "code",
      "source": [
        "np.arange('2016-07-01','2016-07-30',dtype = 'datetime64[D]')"
      ],
      "metadata": {
        "colab": {
          "base_uri": "https://localhost:8080/"
        },
        "id": "rErCpvvvVxiW",
        "outputId": "6b877164-b0d3-4023-b798-ade2e1586684"
      },
      "execution_count": null,
      "outputs": [
        {
          "output_type": "execute_result",
          "data": {
            "text/plain": [
              "array(['2016-07-01', '2016-07-02', '2016-07-03', '2016-07-04',\n",
              "       '2016-07-05', '2016-07-06', '2016-07-07', '2016-07-08',\n",
              "       '2016-07-09', '2016-07-10', '2016-07-11', '2016-07-12',\n",
              "       '2016-07-13', '2016-07-14', '2016-07-15', '2016-07-16',\n",
              "       '2016-07-17', '2016-07-18', '2016-07-19', '2016-07-20',\n",
              "       '2016-07-21', '2016-07-22', '2016-07-23', '2016-07-24',\n",
              "       '2016-07-25', '2016-07-26', '2016-07-27', '2016-07-28',\n",
              "       '2016-07-29'], dtype='datetime64[D]')"
            ]
          },
          "metadata": {},
          "execution_count": 101
        }
      ]
    },
    {
      "cell_type": "markdown",
      "source": [
        "35. How to compute ((A+B)*(-A/2)) in place (without copy)? (★★☆)\n",
        "(hint: np.add(out=), np.negative(out=), np.multiply(out=), np.divide(out=))"
      ],
      "metadata": {
        "id": "5zb99NtxnCFP"
      }
    },
    {
      "cell_type": "code",
      "source": [
        "import numpy as np\n",
        "\n",
        "# Example arrays\n",
        "A = np.array([1.0, 2.0, 3.0])\n",
        "B = np.array([4.0, 5.0, 6.0])\n",
        "\n",
        "# Step 1: A + B\n",
        "np.add(A, B, out=A)  # A now becomes A + B\n",
        "\n",
        "# Step 2: -A\n",
        "np.negative(A, out=A)  # A now becomes -(A + B)\n",
        "\n",
        "# Step 3: -A / 2\n",
        "np.divide(A, 2, out=A)  # A now becomes -(A + B) / 2\n",
        "\n",
        "# Step 4: (A + B) * (-A / 2)\n",
        "np.multiply(A, A, out=A)  # A now becomes (A + B) * (-(A + B) / 2)\n",
        "\n",
        "# Print the result\n",
        "print(A)"
      ],
      "metadata": {
        "colab": {
          "base_uri": "https://localhost:8080/"
        },
        "id": "Syb25-ggnDD5",
        "outputId": "28483b8a-e0f5-47f3-99f9-c009b79f50b3"
      },
      "execution_count": null,
      "outputs": [
        {
          "output_type": "stream",
          "name": "stdout",
          "text": [
            "[ 6.25 12.25 20.25]\n"
          ]
        }
      ]
    },
    {
      "cell_type": "markdown",
      "source": [
        "36. Extract the integer part of a random array using 5 different methods (★★☆)\n",
        "\n",
        "(hint: %, np.floor, np.ceil, astype, np.trunc)"
      ],
      "metadata": {
        "id": "n5mGdhGhnvyR"
      }
    },
    {
      "cell_type": "code",
      "source": [
        "a = np.random.randn(10)\n",
        "a = a - np.mod(a,1)\n",
        "print(a)\n",
        "print(np.floor(a))\n",
        "print(np.ceil(a))\n",
        "print(a.astype(int))\n",
        "print(np.trunc(a))\n",
        "\n"
      ],
      "metadata": {
        "colab": {
          "base_uri": "https://localhost:8080/"
        },
        "id": "7IqHOQZnnpuG",
        "outputId": "6b7508aa-e56a-4434-eb1c-3a8d36c241dc"
      },
      "execution_count": null,
      "outputs": [
        {
          "output_type": "stream",
          "name": "stdout",
          "text": [
            "[ 0. -1.  0.  0.  0.  0. -1.  0.  0. -1.]\n",
            "[ 0. -1.  0.  0.  0.  0. -1.  0.  0. -1.]\n",
            "[ 0. -1.  0.  0.  0.  0. -1.  0.  0. -1.]\n",
            "[ 0 -1  0  0  0  0 -1  0  0 -1]\n",
            "[ 0. -1.  0.  0.  0.  0. -1.  0.  0. -1.]\n"
          ]
        }
      ]
    },
    {
      "cell_type": "code",
      "source": [
        "a = np.random.randn(10)\n",
        "a = a - np.mod(a,1)\n",
        "print(a)"
      ],
      "metadata": {
        "colab": {
          "base_uri": "https://localhost:8080/"
        },
        "id": "srVZJaZwrPgE",
        "outputId": "0768fc1a-75ce-4c6b-fb21-c62d0eeb9097"
      },
      "execution_count": null,
      "outputs": [
        {
          "output_type": "stream",
          "name": "stdout",
          "text": [
            "[-1. -1.  0.  0.  1. -2. -1.  0. -1. -2.]\n"
          ]
        }
      ]
    },
    {
      "cell_type": "markdown",
      "source": [
        "37. Create a 5x5 matrix with row values ranging from 0 to 4 (★★☆)\n",
        "(hint: np.arange)"
      ],
      "metadata": {
        "id": "BIDM2uo_vcWB"
      }
    },
    {
      "cell_type": "code",
      "source": [
        "\n",
        "# a = np.arange(0,5)\n",
        "# b = a[:,np.newaxis]\n",
        "# print(b)\n",
        "\n",
        "\n",
        "a = np.tile(np.arange(0,4),(5,1))\n",
        "print(a)\n",
        "\n",
        "\n",
        "\n"
      ],
      "metadata": {
        "colab": {
          "base_uri": "https://localhost:8080/"
        },
        "id": "9W_m5FuRvdbA",
        "outputId": "36014ac0-0cdb-415b-97e1-c95a3a5fd8d5"
      },
      "execution_count": null,
      "outputs": [
        {
          "output_type": "stream",
          "name": "stdout",
          "text": [
            "[[0 1 2 3]\n",
            " [0 1 2 3]\n",
            " [0 1 2 3]\n",
            " [0 1 2 3]\n",
            " [0 1 2 3]]\n"
          ]
        }
      ]
    },
    {
      "cell_type": "markdown",
      "source": [
        "38. Consider a generator function that generates 10 integers and use it to build an array (★☆☆)\n",
        "(hint: np.fromiter)"
      ],
      "metadata": {
        "id": "yNdAiOWw1UvS"
      }
    },
    {
      "cell_type": "code",
      "source": [
        "\n",
        "# Define a generator function that generates 10 integers\n",
        "def generate_integers():\n",
        "    for i in range(10):\n",
        "        yield i\n",
        "\n",
        "# Use np.fromiter to build an array from the generator\n",
        "array = np.fromiter(generate_integers(), dtype=int, count=10)\n",
        "\n",
        "print(array)"
      ],
      "metadata": {
        "colab": {
          "base_uri": "https://localhost:8080/"
        },
        "id": "1oNcxDNK1XXx",
        "outputId": "81a1c32a-0298-4ab1-d23f-1a79495449ec"
      },
      "execution_count": null,
      "outputs": [
        {
          "output_type": "stream",
          "name": "stdout",
          "text": [
            "[0 1 2 3 4 5 6 7 8 9]\n"
          ]
        }
      ]
    },
    {
      "cell_type": "markdown",
      "source": [
        "39. Create a vector of size 10 with values ranging from 0 to 1, both excluded (★★☆)\n",
        "(hint: np.linspace)"
      ],
      "metadata": {
        "id": "fvtHJAc52VgZ"
      }
    },
    {
      "cell_type": "code",
      "source": [
        "a = np.linspace(0.1,0.9,10)\n",
        "print(a)"
      ],
      "metadata": {
        "colab": {
          "base_uri": "https://localhost:8080/"
        },
        "id": "qqc9sBzW2OPZ",
        "outputId": "3a857cfa-5201-4b53-ab88-251562a10c78"
      },
      "execution_count": null,
      "outputs": [
        {
          "output_type": "stream",
          "name": "stdout",
          "text": [
            "[0.1        0.18888889 0.27777778 0.36666667 0.45555556 0.54444444\n",
            " 0.63333333 0.72222222 0.81111111 0.9       ]\n"
          ]
        }
      ]
    },
    {
      "cell_type": "markdown",
      "source": [
        "40. Create a random vector of size 10 and sort it (★★☆)\n",
        "(hint: sort)"
      ],
      "metadata": {
        "id": "vS-HZtvs2iwu"
      }
    },
    {
      "cell_type": "code",
      "source": [
        "a = np.random.randint(0,11,size =10)\n",
        "print(a)\n",
        "\n",
        "print(np.sort(a))"
      ],
      "metadata": {
        "colab": {
          "base_uri": "https://localhost:8080/"
        },
        "id": "WMsVIF2V2mAH",
        "outputId": "921e54bd-41ed-4b52-b2fd-12cc1c4020f9"
      },
      "execution_count": null,
      "outputs": [
        {
          "output_type": "stream",
          "name": "stdout",
          "text": [
            "[8 1 9 6 9 8 8 1 6 3]\n",
            "[1 1 3 6 6 8 8 8 9 9]\n"
          ]
        }
      ]
    },
    {
      "cell_type": "markdown",
      "source": [
        "41. How to sum a small array faster than np.sum? (★★☆)\n",
        "(hint: np.add.reduce)"
      ],
      "metadata": {
        "id": "Tc6KM27V3G3p"
      }
    },
    {
      "cell_type": "code",
      "source": [],
      "metadata": {
        "id": "qt57PJtf4Gum"
      },
      "execution_count": null,
      "outputs": []
    },
    {
      "cell_type": "code",
      "source": [
        "from timeit import default_timer as timer\n",
        "a = np.random.randn(1000)\n",
        "b = np.random.randn(1000)\n",
        "# print(a)\n",
        "# print(b)\n",
        "A = list(a)\n",
        "B = list(b)\n",
        "T = 1000\n",
        "def sum_ar():\n",
        "  s1 = 0\n",
        "  for i in range(len(A)):\n",
        "    s1 += a\n",
        "  return s1\n",
        "def sum_red():\n",
        "  return np.add.reduce(B)\n",
        "\n",
        "# calculate the timing\n",
        "start = timer()\n",
        "for t in range(T):\n",
        "  sum_ar()\n",
        "end = timer()\n",
        "t1 = end - start\n",
        "\n",
        "# for dot2\n",
        "start = timer()\n",
        "for t in range(T):\n",
        "  sum_red()\n",
        "end = timer()\n",
        "t2 = end - start\n",
        "\n",
        "print('time with sum_ar',t1)\n",
        "print('time with sum_redUced array',t2)\n",
        "\n",
        "print(\"ratio\",t1/t2)"
      ],
      "metadata": {
        "colab": {
          "base_uri": "https://localhost:8080/"
        },
        "id": "h2jA79Oh3EOa",
        "outputId": "9d67f9ea-37ae-4957-c207-c6a0c4e9d023"
      },
      "execution_count": null,
      "outputs": [
        {
          "output_type": "stream",
          "name": "stdout",
          "text": [
            "time with sum_ar 1.0882547470000645\n",
            "time with sum_redUced array 0.10594458800005668\n",
            "ratio 10.271923913654582\n"
          ]
        }
      ]
    },
    {
      "cell_type": "markdown",
      "source": [
        "42. Consider two random array A and B, check if they are equal (★★☆)\n",
        "(hint: np.allclose, np.array_equal)"
      ],
      "metadata": {
        "id": "7BZPuyrk4c9M"
      }
    },
    {
      "cell_type": "code",
      "source": [
        "a = np.array([3,4,5,7,8,9])\n",
        "b = np.array([5,6,7,8,9,0])\n",
        "np.allclose(a,b)\n",
        "print(np.array_equal(a,b))"
      ],
      "metadata": {
        "colab": {
          "base_uri": "https://localhost:8080/"
        },
        "id": "NbMQA1Hy4ZWz",
        "outputId": "0abf362c-482c-44e2-a64b-fc1f6d6113b6"
      },
      "execution_count": null,
      "outputs": [
        {
          "output_type": "stream",
          "name": "stdout",
          "text": [
            "False\n"
          ]
        }
      ]
    },
    {
      "cell_type": "markdown",
      "source": [
        "43. Make an array immutable (read-only) (★★☆)\n",
        "(hint: flags.writeable)"
      ],
      "metadata": {
        "id": "XrUOQJdE5DZl"
      }
    },
    {
      "cell_type": "code",
      "source": [
        "a = np.array([1,2,3,4])\n",
        "a.flags.writeable = False\n",
        "\n",
        "try:\n",
        "    a[0] = 10\n",
        "except ValueError as e:\n",
        "  print(\"Error:\", e)\n"
      ],
      "metadata": {
        "colab": {
          "base_uri": "https://localhost:8080/"
        },
        "id": "UrFdbVHB5G_S",
        "outputId": "b9a62a70-d49c-4614-8ce9-3240faf26c2f"
      },
      "execution_count": null,
      "outputs": [
        {
          "output_type": "stream",
          "name": "stdout",
          "text": [
            "Error: assignment destination is read-only\n"
          ]
        }
      ]
    },
    {
      "cell_type": "markdown",
      "source": [
        "44. Consider a random 10x2 matrix representing cartesian coordinates, convert them to polar coordinates (★★☆)\n",
        "(hint: np.sqrt, np.arctan2)"
      ],
      "metadata": {
        "id": "m49gtt4u55o2"
      }
    },
    {
      "cell_type": "code",
      "source": [
        "# Create a random 10x2 matrix representing Cartesian coordinates\n",
        "cartesian_coords = np.random.rand(10, 2)\n",
        "\n",
        "# Extract x and y coordinates\n",
        "x = cartesian_coords[:, 0]\n",
        "y = cartesian_coords[:, 1]\n",
        "\n",
        "# Compute the radius (r) and angle (theta)\n",
        "r = np.sqrt(x**2 + y**2)\n",
        "theta = np.arctan2(y, x)\n",
        "\n",
        "# Combine r and theta into a single matrix representing polar coordinates\n",
        "polar_coords = np.column_stack((r, theta))\n",
        "\n",
        "print(\"Cartesian coordinates:\")\n",
        "print(cartesian_coords)\n",
        "print(\"\\nPolar coordinates:\")\n",
        "print(polar_coords)"
      ],
      "metadata": {
        "colab": {
          "base_uri": "https://localhost:8080/"
        },
        "id": "bGNVHG1o58tx",
        "outputId": "e4473161-4e7a-4bbc-a1b2-7d5276d791f5"
      },
      "execution_count": null,
      "outputs": [
        {
          "output_type": "stream",
          "name": "stdout",
          "text": [
            "Cartesian coordinates:\n",
            "[[0.76329536 0.71236361]\n",
            " [0.24525014 0.40737685]\n",
            " [0.16289015 0.36161373]\n",
            " [0.74669278 0.97021036]\n",
            " [0.44667939 0.12946392]\n",
            " [0.32681422 0.80630341]\n",
            " [0.70806731 0.40882267]\n",
            " [0.07027404 0.92456348]\n",
            " [0.86485827 0.45683634]\n",
            " [0.93545911 0.86670395]]\n",
            "\n",
            "Polar coordinates:\n",
            "[[1.04406979 0.75089728]\n",
            " [0.47550344 1.02889083]\n",
            " [0.39660773 1.14756538]\n",
            " [1.22427866 0.91485655]\n",
            " [0.46506277 0.28210644]\n",
            " [0.87001881 1.18570863]\n",
            " [0.81761562 0.52361977]\n",
            " [0.92723033 1.49493439]\n",
            " [0.97809982 0.48596873]\n",
            " [1.27524879 0.74726519]]\n"
          ]
        }
      ]
    },
    {
      "cell_type": "markdown",
      "source": [
        "45. Create random vector of size 10 and replace the maximum value by 0 (★★☆)\n",
        "(hint: argmax)"
      ],
      "metadata": {
        "id": "g1b2RNtt6bDy"
      }
    },
    {
      "cell_type": "code",
      "source": [
        "a = np.random.randint(10,size =10)\n",
        "print(a)\n",
        "cond = np.max(a)\n",
        "print(f\"The maximum element is {cond}\")\n",
        "b = np.argmax(a).flatten()\n",
        "a[b]= 0\n",
        "print(a)"
      ],
      "metadata": {
        "colab": {
          "base_uri": "https://localhost:8080/"
        },
        "id": "bAhHC5_g6YSe",
        "outputId": "a915f87d-0e68-4d22-e6fe-033e37587f6f"
      },
      "execution_count": null,
      "outputs": [
        {
          "output_type": "stream",
          "name": "stdout",
          "text": [
            "[7 2 7 5 7 2 9 0 8 8]\n",
            "The maximum element is 9\n",
            "[7 2 7 5 7 2 0 0 8 8]\n"
          ]
        }
      ]
    },
    {
      "cell_type": "markdown",
      "source": [
        "46. Create a structured array with x and y coordinates covering the [0,1]x[0,1] area (★★☆)\n",
        "(hint: np.meshgrid)"
      ],
      "metadata": {
        "id": "9BzsT83F7vYO"
      }
    },
    {
      "cell_type": "code",
      "source": [
        "import numpy as np\n",
        "\n",
        "# Define the grid size\n",
        "grid_size = 5\n",
        "\n",
        "# Generate a grid of x and y coordinates\n",
        "x, y = np.meshgrid(np.linspace(0, 1, grid_size), np.linspace(0, 1, grid_size))\n",
        "\n",
        "# Create a structured array with fields 'x' and 'y'\n",
        "structured_array = np.zeros((grid_size, grid_size), dtype=[('x', 'f4'), ('y', 'f4')])\n",
        "\n",
        "# Assign the x and y coordinates to the structured array\n",
        "structured_array['x'], structured_array['y'] = x, y\n",
        "\n",
        "print(structured_array)"
      ],
      "metadata": {
        "colab": {
          "base_uri": "https://localhost:8080/"
        },
        "id": "jTvY-aZh7yjL",
        "outputId": "a3488ab9-4e73-4661-9064-c42abb31b824"
      },
      "execution_count": null,
      "outputs": [
        {
          "output_type": "stream",
          "name": "stdout",
          "text": [
            "[[(0.  , 0.  ) (0.25, 0.  ) (0.5 , 0.  ) (0.75, 0.  ) (1.  , 0.  )]\n",
            " [(0.  , 0.25) (0.25, 0.25) (0.5 , 0.25) (0.75, 0.25) (1.  , 0.25)]\n",
            " [(0.  , 0.5 ) (0.25, 0.5 ) (0.5 , 0.5 ) (0.75, 0.5 ) (1.  , 0.5 )]\n",
            " [(0.  , 0.75) (0.25, 0.75) (0.5 , 0.75) (0.75, 0.75) (1.  , 0.75)]\n",
            " [(0.  , 1.  ) (0.25, 1.  ) (0.5 , 1.  ) (0.75, 1.  ) (1.  , 1.  )]]\n"
          ]
        }
      ]
    },
    {
      "cell_type": "markdown",
      "source": [
        "47. Given two arrays, X and Y, construct the Cauchy matrix C (Cij =1/(xi - yj))\n",
        "(hint: np.subtract.outer)"
      ],
      "metadata": {
        "id": "p5uZVT_M76zN"
      }
    },
    {
      "cell_type": "code",
      "source": [
        "# Example arrays X and Y\n",
        "X = np.array([1, 2, 3])\n",
        "Y = np.array([4, 5, 6])\n",
        "\n",
        "# Construct the Cauchy matrix C\n",
        "C = 1.0 / np.subtract.outer(X, Y)\n",
        "\n",
        "print(\"X:\", X)\n",
        "print(\"Y:\", Y)\n",
        "print(\"Cauchy matrix C:\\n\", C)"
      ],
      "metadata": {
        "colab": {
          "base_uri": "https://localhost:8080/"
        },
        "id": "BgYFT1Yv76d9",
        "outputId": "ee116ce5-c148-4797-944c-22c42cb1de2f"
      },
      "execution_count": null,
      "outputs": [
        {
          "output_type": "stream",
          "name": "stdout",
          "text": [
            "X: [1 2 3]\n",
            "Y: [4 5 6]\n",
            "Cauchy matrix C:\n",
            " [[-0.33333333 -0.25       -0.2       ]\n",
            " [-0.5        -0.33333333 -0.25      ]\n",
            " [-1.         -0.5        -0.33333333]]\n"
          ]
        }
      ]
    },
    {
      "cell_type": "markdown",
      "source": [
        "48. Print the minimum and maximum representable value for each numpy scalar type (★★☆)\n",
        "(hint: np.iinfo, np.finfo, eps)"
      ],
      "metadata": {
        "id": "vCF86n2U8Lqh"
      }
    },
    {
      "cell_type": "code",
      "source": [
        "integer_types = [np.int8, np.int16, np.int32, np.int64, np.uint8, np.uint16, np.uint32, np.uint64]\n",
        "\n",
        "print(\"Integer types:\")\n",
        "for dtype in integer_types:\n",
        "    info = np.iinfo(dtype)\n",
        "    print(f\"{dtype.__name__}: min={info.min}, max={info.max}\")\n",
        "\n",
        "# Floating-point types\n",
        "floating_types = [np.float16, np.float32, np.float64]\n",
        "\n",
        "print(\"\\nFloating-point types:\")\n",
        "for dtype in floating_types:\n",
        "    info = np.finfo(dtype)\n",
        "    print(f\"{dtype.__name__}: min={info.min}, max={info.max}, eps={info.eps}\")"
      ],
      "metadata": {
        "colab": {
          "base_uri": "https://localhost:8080/"
        },
        "id": "fMGMlPte8OoR",
        "outputId": "941e93eb-b34d-46df-cffa-b179105330e7"
      },
      "execution_count": null,
      "outputs": [
        {
          "output_type": "stream",
          "name": "stdout",
          "text": [
            "Integer types:\n",
            "int8: min=-128, max=127\n",
            "int16: min=-32768, max=32767\n",
            "int32: min=-2147483648, max=2147483647\n",
            "int64: min=-9223372036854775808, max=9223372036854775807\n",
            "uint8: min=0, max=255\n",
            "uint16: min=0, max=65535\n",
            "uint32: min=0, max=4294967295\n",
            "uint64: min=0, max=18446744073709551615\n",
            "\n",
            "Floating-point types:\n",
            "float16: min=-65504.0, max=65504.0, eps=0.0009765625\n",
            "float32: min=-3.4028234663852886e+38, max=3.4028234663852886e+38, eps=1.1920928955078125e-07\n",
            "float64: min=-1.7976931348623157e+308, max=1.7976931348623157e+308, eps=2.220446049250313e-16\n"
          ]
        }
      ]
    },
    {
      "cell_type": "markdown",
      "source": [
        "49. How to print all the values of an array? (★★☆)\n",
        "(hint: np.set_printoptions)"
      ],
      "metadata": {
        "id": "Tbb-L8f78WcK"
      }
    },
    {
      "cell_type": "code",
      "source": [
        "large_array = np.arange(100)\n",
        "\n",
        "# Set print options to print all elements\n",
        "np.set_printoptions(threshold=np.inf)\n",
        "\n",
        "# Print the array\n",
        "print(large_array)"
      ],
      "metadata": {
        "colab": {
          "base_uri": "https://localhost:8080/"
        },
        "id": "fqk7jwLk8W_0",
        "outputId": "71c4aeae-1440-40ef-ae80-5d6b8adc8047"
      },
      "execution_count": null,
      "outputs": [
        {
          "output_type": "stream",
          "name": "stdout",
          "text": [
            "[ 0  1  2  3  4  5  6  7  8  9 10 11 12 13 14 15 16 17 18 19 20 21 22 23\n",
            " 24 25 26 27 28 29 30 31 32 33 34 35 36 37 38 39 40 41 42 43 44 45 46 47\n",
            " 48 49 50 51 52 53 54 55 56 57 58 59 60 61 62 63 64 65 66 67 68 69 70 71\n",
            " 72 73 74 75 76 77 78 79 80 81 82 83 84 85 86 87 88 89 90 91 92 93 94 95\n",
            " 96 97 98 99]\n"
          ]
        }
      ]
    },
    {
      "cell_type": "markdown",
      "source": [
        "50. How to find the closest value (to a given scalar) in a vector? (★★☆)\n",
        "(hint: argmin)"
      ],
      "metadata": {
        "id": "Uxe8iaGu9Yxi"
      }
    },
    {
      "cell_type": "code",
      "source": [
        "vector = np.array([1.2, 3.5, 2.1, 7.8, 5.4])\n",
        "\n",
        "# Given scalar\n",
        "scalar = 4.0\n",
        "\n",
        "# Find index of closest value\n",
        "index = np.argmin(np.abs(vector - scalar))\n",
        "\n",
        "# Closest value\n",
        "closest_value = vector[index]\n",
        "\n",
        "print(f\"Vector: {vector}\")\n",
        "print(f\"Scalar: {scalar}\")\n",
        "print(f\"Closest value: {closest_value} at index {index}\")"
      ],
      "metadata": {
        "colab": {
          "base_uri": "https://localhost:8080/"
        },
        "id": "sLJzLAxM9bZd",
        "outputId": "1e78bbfe-ab3c-44b0-b90e-4a74b7585855"
      },
      "execution_count": null,
      "outputs": [
        {
          "output_type": "stream",
          "name": "stdout",
          "text": [
            "Vector: [1.2 3.5 2.1 7.8 5.4]\n",
            "Scalar: 4.0\n",
            "Closest value: 3.5 at index 1\n"
          ]
        }
      ]
    }
  ]
}